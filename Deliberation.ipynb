{
 "cells": [
  {
   "cell_type": "code",
   "execution_count": 4,
   "id": "da9e3e59",
   "metadata": {},
   "outputs": [],
   "source": [
    "import random"
   ]
  },
  {
   "cell_type": "code",
   "execution_count": 5,
   "id": "47326b12",
   "metadata": {},
   "outputs": [],
   "source": [
    "class Chain:\n",
    "    \"\"\"A class to represent a chain of agents processing tasks in sequence.\n",
    "\n",
    "    Attributes:\n",
    "        agents (list): A list of Agent objects that will process the task.\n",
    "        responses (list): A list of responses from each agent in the chain.\n",
    "        prompts (list): A list of prompts used by each agent in the chain.\n",
    "        final_response (str): The final response produced by the last agent in the chain.\n",
    "        shuffle (bool): Whether to shuffle the order of agents in the chain.\n",
    "        cycles (int): The number of cycles to process through the chain.\n",
    "        last_n (int): The number of last responses to consider for the next task processing.\n",
    "\n",
    "    Args:\n",
    "        agents (list): A list of Agent objects that will process the task.\n",
    "        shuffle (bool): If True, the order of agents will be shuffled. Defaults to False.\n",
    "        cycles (int): The number of times the list of agents will process the task. Defaults to 1.\n",
    "        last_n (int): The number of last responses to consider for the next task processing. Defaults to 1.\n",
    "\n",
    "    Methods:\n",
    "        process_chain(): Processes the task through the chain of agents, each building upon the last.\n",
    "        format_prior_responses(responses): Formats prior responses for inclusion in the next task description.\n",
    "    \"\"\"\n",
    "    def __init__(self, agents, shuffle=False, cycles=1, last_n=1):\n",
    "        \"\"\"Initialize a chain with a list of agents.\"\"\"\n",
    "        self.agents = agents\n",
    "        self.responses = []\n",
    "        self.prompts = []\n",
    "        self.final_response = None\n",
    "        self.shuffle = shuffle\n",
    "        self.last_n = last_n\n",
    "        if self.shuffle:\n",
    "          self.agents = random.sample(self.agents, len(self.agents))\n",
    "        self.cycles = 1\n",
    "        if last_n == -9:\n",
    "          self.last_n = 1000000\n",
    "\n",
    "\n",
    "    def process_chain(self):\n",
    "        \"\"\"Process the task through a chain of agents, each building upon the last.\"\"\"\n",
    "        previous_responses = []\n",
    "        for i in range(self.cycles):\n",
    "          for i, agent in enumerate(self.agents):\n",
    "              previous_responses_slice = previous_responses[:-self.last_n]\n",
    "              previous_responses_str = self.format_previous_responses(previous_responses_slice)\n",
    "              response = agent.process_task(self.format_previous_responses(previous_responses))\n",
    "              previous_responses.append(response)\n",
    "              self.prompts.append(agent.current_task_description)\n",
    "              self.responses.append(response)\n",
    "        self.final_response = self.responses[-1]\n",
    "\n",
    "    @staticmethod\n",
    "    def format_previous_responses(responses):\n",
    "      if not responses:\n",
    "        return \"\"\n",
    "      else:\n",
    "        resp_list = [\"Response {}: {}\\n\".format(i, responses[i]) for i in range(len(responses))]\n",
    "        resp_str = \"\".join(resp_list)\n",
    "        return resp_str\n"
   ]
  },
  {
   "cell_type": "code",
   "execution_count": null,
   "id": "14fbe55d",
   "metadata": {},
   "outputs": [],
   "source": []
  }
 ],
 "metadata": {
  "kernelspec": {
   "display_name": "Python 3",
   "language": "python",
   "name": "python3"
  },
  "language_info": {
   "codemirror_mode": {
    "name": "ipython",
    "version": 3
   },
   "file_extension": ".py",
   "mimetype": "text/x-python",
   "name": "python",
   "nbconvert_exporter": "python",
   "pygments_lexer": "ipython3",
   "version": "3.8.8"
  }
 },
 "nbformat": 4,
 "nbformat_minor": 5
}
