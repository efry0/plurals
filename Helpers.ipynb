{
 "cells": [
  {
   "cell_type": "code",
   "execution_count": 2,
   "id": "137364c7",
   "metadata": {},
   "outputs": [],
   "source": [
    "\n",
    "def print_values(mapping):\n",
    "    for key in mapping.keys():\n",
    "        vals = mapping[key]['values']\n",
    "        # Check if the values are nested dictionaries (e.g., for \"race\")\n",
    "        if isinstance(vals, dict) and all(isinstance(v, dict) for v in vals.values()):\n",
    "            for sub_key in vals.keys():\n",
    "                sub_vals = vals[sub_key]\n",
    "                # Sorting and printing each nested dictionary separately\n",
    "                sorted_sub_vals = dict(sorted(sub_vals.items(), key=lambda item: int(item[0]) if item[0].isdigit() else item[0]))\n",
    "                print(f\"{mapping[key]['name']} ({sub_key}):\")\n",
    "                for val_key, val in sorted_sub_vals.items():\n",
    "                    if val:  # Only print if there's a value to avoid empty strings\n",
    "                        print(f\"  {val_key}: {val}\")\n",
    "        else:\n",
    "            # Sorting by key, converting to int if possible for proper numeric sorting\n",
    "            sorted_vals = dict(sorted(vals.items(), key=lambda item: int(item[0]) if item[0].lstrip('-').isdigit() else item[0]))\n",
    "            print(mapping[key]['name'] + \":\")\n",
    "            for val_key, val in sorted_vals.items():\n",
    "                print(f\"  {key}=={val_key}: {val}\")\n",
    "        print()  # Print a newline for better separation\n"
   ]
  },
  {
   "cell_type": "code",
   "execution_count": null,
   "id": "a178d87d",
   "metadata": {},
   "outputs": [],
   "source": []
  }
 ],
 "metadata": {
  "kernelspec": {
   "display_name": "Python 3",
   "language": "python",
   "name": "python3"
  },
  "language_info": {
   "codemirror_mode": {
    "name": "ipython",
    "version": 3
   },
   "file_extension": ".py",
   "mimetype": "text/x-python",
   "name": "python",
   "nbconvert_exporter": "python",
   "pygments_lexer": "ipython3",
   "version": "3.8.8"
  }
 },
 "nbformat": 4,
 "nbformat_minor": 5
}
